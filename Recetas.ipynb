{
 "cells": [
  {
   "cell_type": "code",
   "execution_count": 1,
   "metadata": {},
   "outputs": [],
   "source": [
    "import pandas as pd\n",
    "from selenium import webdriver\n",
    "import pandas as pd\n",
    "from tqdm.notebook import tqdm"
   ]
  },
  {
   "cell_type": "code",
   "execution_count": 2,
   "metadata": {},
   "outputs": [],
   "source": [
    "df_recetas = pd.read_csv('recetas.csv', delimiter='|')"
   ]
  },
  {
   "cell_type": "code",
   "execution_count": 3,
   "metadata": {},
   "outputs": [],
   "source": [
    "df_recetas = df_recetas.dropna(subset=['Tiempo'])"
   ]
  },
  {
   "cell_type": "code",
   "execution_count": 4,
   "metadata": {},
   "outputs": [],
   "source": [
    "df_recetas = df_recetas.dropna(subset=['Tipo'])"
   ]
  },
  {
   "cell_type": "code",
   "execution_count": 5,
   "metadata": {},
   "outputs": [],
   "source": [
    "df_recetas = df_recetas.dropna(subset=['Ingredientes'])"
   ]
  },
  {
   "cell_type": "code",
   "execution_count": 6,
   "metadata": {},
   "outputs": [],
   "source": [
    "df_recetas = df_recetas.dropna(subset=['Dificultad'])\n"
   ]
  },
  {
   "cell_type": "code",
   "execution_count": 7,
   "metadata": {},
   "outputs": [],
   "source": [
    "df_recetas = df_recetas.drop(columns = ['Num_comentarios', 'Num_reviews', 'Fecha_modificacion'])"
   ]
  },
  {
   "cell_type": "code",
   "execution_count": 8,
   "metadata": {},
   "outputs": [
    {
     "data": {
      "text/html": [
       "<div>\n",
       "<style scoped>\n",
       "    .dataframe tbody tr th:only-of-type {\n",
       "        vertical-align: middle;\n",
       "    }\n",
       "\n",
       "    .dataframe tbody tr th {\n",
       "        vertical-align: top;\n",
       "    }\n",
       "\n",
       "    .dataframe thead th {\n",
       "        text-align: right;\n",
       "    }\n",
       "</style>\n",
       "<table border=\"1\" class=\"dataframe\">\n",
       "  <thead>\n",
       "    <tr style=\"text-align: right;\">\n",
       "      <th></th>\n",
       "      <th>Id</th>\n",
       "      <th>Categoria</th>\n",
       "      <th>Nombre</th>\n",
       "      <th>Valoracion</th>\n",
       "      <th>Dificultad</th>\n",
       "      <th>Num_comensales</th>\n",
       "      <th>Tiempo</th>\n",
       "      <th>Tipo</th>\n",
       "      <th>Link_receta</th>\n",
       "      <th>Ingredientes</th>\n",
       "    </tr>\n",
       "  </thead>\n",
       "  <tbody>\n",
       "    <tr>\n",
       "      <th>1</th>\n",
       "      <td>74133</td>\n",
       "      <td>Recetas de Aperitivos y tapas</td>\n",
       "      <td>Receta de Tacos de carne molida</td>\n",
       "      <td>NaN</td>\n",
       "      <td>baja</td>\n",
       "      <td>4.0</td>\n",
       "      <td>30m</td>\n",
       "      <td>Plato principal</td>\n",
       "      <td>https://www.recetasgratis.net/receta-de-tacos-...</td>\n",
       "      <td>500 gramos de carne molida,1 papa mediana,2 cu...</td>\n",
       "    </tr>\n",
       "    <tr>\n",
       "      <th>2</th>\n",
       "      <td>74154</td>\n",
       "      <td>Recetas de Aperitivos y tapas</td>\n",
       "      <td>Receta de Burritos norteños</td>\n",
       "      <td>NaN</td>\n",
       "      <td>muy baja</td>\n",
       "      <td>5.0</td>\n",
       "      <td>30m</td>\n",
       "      <td>Entrante</td>\n",
       "      <td>https://www.recetasgratis.net/receta-de-burrit...</td>\n",
       "      <td>10 tortillas de harina para burritos,500 gramo...</td>\n",
       "    </tr>\n",
       "    <tr>\n",
       "      <th>3</th>\n",
       "      <td>74146</td>\n",
       "      <td>Recetas de Aperitivos y tapas</td>\n",
       "      <td>Receta de Croquetas de pollo caseras de la abuela</td>\n",
       "      <td>NaN</td>\n",
       "      <td>baja</td>\n",
       "      <td>4.0</td>\n",
       "      <td>45m</td>\n",
       "      <td>Entrante</td>\n",
       "      <td>https://www.recetasgratis.net/receta-de-croque...</td>\n",
       "      <td>1 pechuga de pollo cocida y troceada,1 pellizc...</td>\n",
       "    </tr>\n",
       "    <tr>\n",
       "      <th>4</th>\n",
       "      <td>74081</td>\n",
       "      <td>Recetas de Aperitivos y tapas</td>\n",
       "      <td>Receta de Masa para empanadas fritas</td>\n",
       "      <td>NaN</td>\n",
       "      <td>baja</td>\n",
       "      <td>3.0</td>\n",
       "      <td>30m</td>\n",
       "      <td>Entrante</td>\n",
       "      <td>https://www.recetasgratis.net/receta-de-masa-p...</td>\n",
       "      <td>3 tazas de harina de trigo (420 gramos),1 pizc...</td>\n",
       "    </tr>\n",
       "    <tr>\n",
       "      <th>5</th>\n",
       "      <td>74068</td>\n",
       "      <td>Recetas de Aperitivos y tapas</td>\n",
       "      <td>Receta de Hummus de zanahoria</td>\n",
       "      <td>NaN</td>\n",
       "      <td>baja</td>\n",
       "      <td>6.0</td>\n",
       "      <td>1h 30m</td>\n",
       "      <td>Entrante</td>\n",
       "      <td>https://www.recetasgratis.net/receta-de-hummus...</td>\n",
       "      <td>2 zanahorias,1 chorro de aceite de olivia virg...</td>\n",
       "    </tr>\n",
       "  </tbody>\n",
       "</table>\n",
       "</div>"
      ],
      "text/plain": [
       "      Id                      Categoria  \\\n",
       "1  74133  Recetas de Aperitivos y tapas   \n",
       "2  74154  Recetas de Aperitivos y tapas   \n",
       "3  74146  Recetas de Aperitivos y tapas   \n",
       "4  74081  Recetas de Aperitivos y tapas   \n",
       "5  74068  Recetas de Aperitivos y tapas   \n",
       "\n",
       "                                              Nombre  Valoracion Dificultad  \\\n",
       "1                    Receta de Tacos de carne molida         NaN       baja   \n",
       "2                        Receta de Burritos norteños         NaN   muy baja   \n",
       "3  Receta de Croquetas de pollo caseras de la abuela         NaN       baja   \n",
       "4               Receta de Masa para empanadas fritas         NaN       baja   \n",
       "5                      Receta de Hummus de zanahoria         NaN       baja   \n",
       "\n",
       "   Num_comensales  Tiempo             Tipo  \\\n",
       "1             4.0     30m  Plato principal   \n",
       "2             5.0     30m         Entrante   \n",
       "3             4.0     45m         Entrante   \n",
       "4             3.0     30m         Entrante   \n",
       "5             6.0  1h 30m         Entrante   \n",
       "\n",
       "                                         Link_receta  \\\n",
       "1  https://www.recetasgratis.net/receta-de-tacos-...   \n",
       "2  https://www.recetasgratis.net/receta-de-burrit...   \n",
       "3  https://www.recetasgratis.net/receta-de-croque...   \n",
       "4  https://www.recetasgratis.net/receta-de-masa-p...   \n",
       "5  https://www.recetasgratis.net/receta-de-hummus...   \n",
       "\n",
       "                                        Ingredientes  \n",
       "1  500 gramos de carne molida,1 papa mediana,2 cu...  \n",
       "2  10 tortillas de harina para burritos,500 gramo...  \n",
       "3  1 pechuga de pollo cocida y troceada,1 pellizc...  \n",
       "4  3 tazas de harina de trigo (420 gramos),1 pizc...  \n",
       "5  2 zanahorias,1 chorro de aceite de olivia virg...  "
      ]
     },
     "execution_count": 8,
     "metadata": {},
     "output_type": "execute_result"
    }
   ],
   "source": [
    "df_recetas.head()"
   ]
  },
  {
   "cell_type": "markdown",
   "metadata": {},
   "source": [
    "# Scrapeo"
   ]
  },
  {
   "cell_type": "code",
   "execution_count": 9,
   "metadata": {},
   "outputs": [],
   "source": [
    "driver = 'chromedriver.exe'\n",
    "url = 'https://www.recetasgratis.net/'"
   ]
  },
  {
   "cell_type": "code",
   "execution_count": 10,
   "metadata": {},
   "outputs": [],
   "source": [
    "options = webdriver.ChromeOptions()\n",
    "driver = webdriver.Chrome(executable_path=driver, options=options)"
   ]
  },
  {
   "cell_type": "code",
   "execution_count": 11,
   "metadata": {},
   "outputs": [],
   "source": [
    "driver.get(url)"
   ]
  },
  {
   "cell_type": "code",
   "execution_count": 12,
   "metadata": {},
   "outputs": [],
   "source": [
    "button = driver.find_element_by_xpath('/html/body/div[7]/div[2]/div[1]/div[2]/div[2]/button[1]/p')"
   ]
  },
  {
   "cell_type": "code",
   "execution_count": 13,
   "metadata": {},
   "outputs": [],
   "source": [
    "button.click()"
   ]
  },
  {
   "cell_type": "code",
   "execution_count": 14,
   "metadata": {
    "tags": []
   },
   "outputs": [
    {
     "data": {
      "application/vnd.jupyter.widget-view+json": {
       "model_id": "baba108ef0504857ae98d8bf8efa5737",
       "version_major": 2,
       "version_minor": 0
      },
      "text/plain": [
       "  0%|          | 0/11370 [00:00<?, ?it/s]"
      ]
     },
     "metadata": {},
     "output_type": "display_data"
    }
   ],
   "source": [
    "lista_id = []\n",
    "pasos = []\n",
    "ins = []\n",
    "num = -1\n",
    "for url in tqdm(df_recetas['Link_receta']):\n",
    "    driver.get(url)\n",
    "    num += 1\n",
    "    for i in driver.find_elements_by_class_name('apartado'):\n",
    "        if driver.find_elements_by_class_name('orden') != []:\n",
    "            try:\n",
    "                lista_id.append(df_recetas['Id'].iloc[[num]].values)\n",
    "                pasos.append(int(i.find_element_by_tag_name('div').text))\n",
    "                ins.append(i.find_element_by_tag_name('p').text)\n",
    "                \n",
    "            except:\n",
    "                continue\n",
    "\n",
    "df_pasos = pd.DataFrame(list(zip(lista_id, pasos, ins)),\n",
    "               columns =['Id', 'Paso', 'Instruccion'])\n",
    "\n",
    "df_pasos.to_csv(r'./df_pasos.csv', index=False)"
   ]
  },
  {
   "cell_type": "code",
   "execution_count": null,
   "metadata": {},
   "outputs": [],
   "source": []
  }
 ],
 "metadata": {
  "kernelspec": {
   "display_name": "Python 3",
   "language": "python",
   "name": "python3"
  },
  "language_info": {
   "codemirror_mode": {
    "name": "ipython",
    "version": 3
   },
   "file_extension": ".py",
   "mimetype": "text/x-python",
   "name": "python",
   "nbconvert_exporter": "python",
   "pygments_lexer": "ipython3",
   "version": "3.8.5"
  }
 },
 "nbformat": 4,
 "nbformat_minor": 4
}

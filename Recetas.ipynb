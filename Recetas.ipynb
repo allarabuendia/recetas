{
 "cells": [
  {
   "cell_type": "code",
   "execution_count": 1,
   "metadata": {},
   "outputs": [],
   "source": [
    "import pandas as pd\n",
    "from selenium import webdriver\n",
    "import pandas as pd\n",
    "from tqdm.notebook import tqdm"
   ]
  },
  {
   "cell_type": "code",
   "execution_count": 2,
   "metadata": {},
   "outputs": [],
   "source": [
    "df_recetas = pd.read_csv('recetas.csv', delimiter='|')"
   ]
  },
  {
   "cell_type": "code",
   "execution_count": 3,
   "metadata": {},
   "outputs": [],
   "source": [
    "df_recetas = df_recetas.dropna(subset=['Tiempo'])"
   ]
  },
  {
   "cell_type": "code",
   "execution_count": 4,
   "metadata": {},
   "outputs": [],
   "source": [
    "df_recetas = df_recetas.dropna(subset=['Tipo'])"
   ]
  },
  {
   "cell_type": "code",
   "execution_count": 5,
   "metadata": {},
   "outputs": [],
   "source": [
    "df_recetas = df_recetas.dropna(subset=['Ingredientes'])"
   ]
  },
  {
   "cell_type": "code",
   "execution_count": 6,
   "metadata": {},
   "outputs": [],
   "source": [
    "df_recetas = df_recetas.dropna(subset=['Dificultad'])\n"
   ]
  },
  {
   "cell_type": "code",
   "execution_count": 7,
   "metadata": {},
   "outputs": [],
   "source": [
    "df_recetas = df_recetas.drop(columns = ['Num_comentarios', 'Num_reviews', 'Fecha_modificacion'])"
   ]
  },
  {
   "cell_type": "code",
   "execution_count": 8,
   "metadata": {},
   "outputs": [
    {
     "data": {
      "text/html": [
       "<div>\n",
       "<style scoped>\n",
       "    .dataframe tbody tr th:only-of-type {\n",
       "        vertical-align: middle;\n",
       "    }\n",
       "\n",
       "    .dataframe tbody tr th {\n",
       "        vertical-align: top;\n",
       "    }\n",
       "\n",
       "    .dataframe thead th {\n",
       "        text-align: right;\n",
       "    }\n",
       "</style>\n",
       "<table border=\"1\" class=\"dataframe\">\n",
       "  <thead>\n",
       "    <tr style=\"text-align: right;\">\n",
       "      <th></th>\n",
       "      <th>Id</th>\n",
       "      <th>Categoria</th>\n",
       "      <th>Nombre</th>\n",
       "      <th>Valoracion</th>\n",
       "      <th>Dificultad</th>\n",
       "      <th>Num_comensales</th>\n",
       "      <th>Tiempo</th>\n",
       "      <th>Tipo</th>\n",
       "      <th>Link_receta</th>\n",
       "      <th>Ingredientes</th>\n",
       "    </tr>\n",
       "  </thead>\n",
       "  <tbody>\n",
       "    <tr>\n",
       "      <th>1</th>\n",
       "      <td>74133</td>\n",
       "      <td>Recetas de Aperitivos y tapas</td>\n",
       "      <td>Receta de Tacos de carne molida</td>\n",
       "      <td>NaN</td>\n",
       "      <td>baja</td>\n",
       "      <td>4.0</td>\n",
       "      <td>30m</td>\n",
       "      <td>Plato principal</td>\n",
       "      <td>https://www.recetasgratis.net/receta-de-tacos-...</td>\n",
       "      <td>500 gramos de carne molida,1 papa mediana,2 cu...</td>\n",
       "    </tr>\n",
       "    <tr>\n",
       "      <th>2</th>\n",
       "      <td>74154</td>\n",
       "      <td>Recetas de Aperitivos y tapas</td>\n",
       "      <td>Receta de Burritos norteños</td>\n",
       "      <td>NaN</td>\n",
       "      <td>muy baja</td>\n",
       "      <td>5.0</td>\n",
       "      <td>30m</td>\n",
       "      <td>Entrante</td>\n",
       "      <td>https://www.recetasgratis.net/receta-de-burrit...</td>\n",
       "      <td>10 tortillas de harina para burritos,500 gramo...</td>\n",
       "    </tr>\n",
       "    <tr>\n",
       "      <th>3</th>\n",
       "      <td>74146</td>\n",
       "      <td>Recetas de Aperitivos y tapas</td>\n",
       "      <td>Receta de Croquetas de pollo caseras de la abuela</td>\n",
       "      <td>NaN</td>\n",
       "      <td>baja</td>\n",
       "      <td>4.0</td>\n",
       "      <td>45m</td>\n",
       "      <td>Entrante</td>\n",
       "      <td>https://www.recetasgratis.net/receta-de-croque...</td>\n",
       "      <td>1 pechuga de pollo cocida y troceada,1 pellizc...</td>\n",
       "    </tr>\n",
       "    <tr>\n",
       "      <th>4</th>\n",
       "      <td>74081</td>\n",
       "      <td>Recetas de Aperitivos y tapas</td>\n",
       "      <td>Receta de Masa para empanadas fritas</td>\n",
       "      <td>NaN</td>\n",
       "      <td>baja</td>\n",
       "      <td>3.0</td>\n",
       "      <td>30m</td>\n",
       "      <td>Entrante</td>\n",
       "      <td>https://www.recetasgratis.net/receta-de-masa-p...</td>\n",
       "      <td>3 tazas de harina de trigo (420 gramos),1 pizc...</td>\n",
       "    </tr>\n",
       "    <tr>\n",
       "      <th>5</th>\n",
       "      <td>74068</td>\n",
       "      <td>Recetas de Aperitivos y tapas</td>\n",
       "      <td>Receta de Hummus de zanahoria</td>\n",
       "      <td>NaN</td>\n",
       "      <td>baja</td>\n",
       "      <td>6.0</td>\n",
       "      <td>1h 30m</td>\n",
       "      <td>Entrante</td>\n",
       "      <td>https://www.recetasgratis.net/receta-de-hummus...</td>\n",
       "      <td>2 zanahorias,1 chorro de aceite de olivia virg...</td>\n",
       "    </tr>\n",
       "  </tbody>\n",
       "</table>\n",
       "</div>"
      ],
      "text/plain": [
       "      Id                      Categoria  \\\n",
       "1  74133  Recetas de Aperitivos y tapas   \n",
       "2  74154  Recetas de Aperitivos y tapas   \n",
       "3  74146  Recetas de Aperitivos y tapas   \n",
       "4  74081  Recetas de Aperitivos y tapas   \n",
       "5  74068  Recetas de Aperitivos y tapas   \n",
       "\n",
       "                                              Nombre  Valoracion Dificultad  \\\n",
       "1                    Receta de Tacos de carne molida         NaN       baja   \n",
       "2                        Receta de Burritos norteños         NaN   muy baja   \n",
       "3  Receta de Croquetas de pollo caseras de la abuela         NaN       baja   \n",
       "4               Receta de Masa para empanadas fritas         NaN       baja   \n",
       "5                      Receta de Hummus de zanahoria         NaN       baja   \n",
       "\n",
       "   Num_comensales  Tiempo             Tipo  \\\n",
       "1             4.0     30m  Plato principal   \n",
       "2             5.0     30m         Entrante   \n",
       "3             4.0     45m         Entrante   \n",
       "4             3.0     30m         Entrante   \n",
       "5             6.0  1h 30m         Entrante   \n",
       "\n",
       "                                         Link_receta  \\\n",
       "1  https://www.recetasgratis.net/receta-de-tacos-...   \n",
       "2  https://www.recetasgratis.net/receta-de-burrit...   \n",
       "3  https://www.recetasgratis.net/receta-de-croque...   \n",
       "4  https://www.recetasgratis.net/receta-de-masa-p...   \n",
       "5  https://www.recetasgratis.net/receta-de-hummus...   \n",
       "\n",
       "                                        Ingredientes  \n",
       "1  500 gramos de carne molida,1 papa mediana,2 cu...  \n",
       "2  10 tortillas de harina para burritos,500 gramo...  \n",
       "3  1 pechuga de pollo cocida y troceada,1 pellizc...  \n",
       "4  3 tazas de harina de trigo (420 gramos),1 pizc...  \n",
       "5  2 zanahorias,1 chorro de aceite de olivia virg...  "
      ]
     },
     "execution_count": 8,
     "metadata": {},
     "output_type": "execute_result"
    }
   ],
   "source": [
    "df_recetas.head()"
   ]
  },
  {
   "cell_type": "markdown",
   "metadata": {},
   "source": [
    "# Scrapeo"
   ]
  },
  {
   "cell_type": "code",
   "execution_count": 9,
   "metadata": {},
   "outputs": [],
   "source": [
    "driver = 'chromedriver.exe'\n",
    "url = 'https://www.recetasgratis.net/'"
   ]
  },
  {
   "cell_type": "code",
   "execution_count": 10,
   "metadata": {},
   "outputs": [],
   "source": [
    "options = webdriver.ChromeOptions()\n",
    "options.add_argument(\"headless\");\n",
    "driver = webdriver.Chrome(executable_path=driver, options=options)"
   ]
  },
  {
   "cell_type": "code",
   "execution_count": 11,
   "metadata": {},
   "outputs": [],
   "source": [
    "driver.get(url)"
   ]
  },
  {
   "cell_type": "code",
   "execution_count": 12,
   "metadata": {},
   "outputs": [],
   "source": [
    "button = driver.find_element_by_xpath('/html/body/div[7]/div[2]/div[1]/div[2]/div[2]/button[1]/p')"
   ]
  },
  {
   "cell_type": "code",
   "execution_count": 13,
   "metadata": {},
   "outputs": [],
   "source": [
    "button.click()"
   ]
  },
  {
   "cell_type": "code",
   "execution_count": 14,
   "metadata": {
    "tags": []
   },
   "outputs": [
    {
     "data": {
      "application/vnd.jupyter.widget-view+json": {
       "model_id": "6b94616bcc2d499c8d4008b3b67d0739",
       "version_major": 2,
       "version_minor": 0
      },
      "text/plain": [
       "  0%|          | 0/11370 [00:00<?, ?it/s]"
      ]
     },
     "metadata": {},
     "output_type": "display_data"
    },
    {
     "data": {
      "text/plain": [
       "-7950.145122289658"
      ]
     },
     "execution_count": 14,
     "metadata": {},
     "output_type": "execute_result"
    }
   ],
   "source": [
    "import time\n",
    "tt = time.time()\n",
    "lista_id = []\n",
    "pasos = []\n",
    "ins = []\n",
    "categorias = []\n",
    "num = -1\n",
    "for url in tqdm(df_recetas['Link_receta']):\n",
    "    driver.get(url)\n",
    "    num += 1\n",
    "    for i in driver.find_elements_by_class_name('apartado'):\n",
    "        if i.find_elements_by_class_name('orden') != []:\n",
    "            try:\n",
    "                lista_id.append(df_recetas['Id'].iloc[[num]].values)\n",
    "                pasos.append(int(i.find_element_by_tag_name('div').text))\n",
    "                ins.append(i.find_element_by_tag_name('p').text)\n",
    "                categorias.append(driver.find_element_by_xpath('/html/body/div/div[3]/div[2]/article/div[2]/div[4]/div[2]').text)\n",
    "            except:\n",
    "                continue\n",
    "\n",
    "df_pasos = pd.DataFrame(list(zip(lista_id, pasos, ins, categorias)),\n",
    "               columns =['Id', 'Paso', 'Instruccion', 'Categorias'])\n",
    "\n",
    "df_pasos['Categorias'] = df_pasos['Categorias'].map(lambda x: x.lstrip('Características adicionales:'))\n",
    "\n",
    "df_pasos.to_csv(r'./df_pasos.csv', index=False)\n",
    "\n",
    "tt - time.time()"
   ]
  },
  {
   "cell_type": "code",
   "execution_count": 15,
   "metadata": {},
   "outputs": [],
   "source": [
    "palabros = []\n",
    "\n",
    "for i in df_pasos['Categorias'].str.split(','):\n",
    "    for j in i:\n",
    "        if j not in palabros:\n",
    "            palabros.append(j)"
   ]
  },
  {
   "cell_type": "code",
   "execution_count": 16,
   "metadata": {},
   "outputs": [
    {
     "data": {
      "text/plain": [
       "['barato',\n",
       " ' Picante',\n",
       " ' Recetas mexicanas',\n",
       " ' Popular en Primavera-Verano',\n",
       " ' Poco picante',\n",
       " ' Ideal acompañar con cerveza',\n",
       " ' En sartén',\n",
       " ' Receta sin azúcar',\n",
       " ' Frito',\n",
       " ' Recetas chilenas',\n",
       " ' Recomendada para vegetarianos',\n",
       " ' Recetas al horno',\n",
       " ' Receta tradicional de Egipto',\n",
       " ' Confitado',\n",
       " 'medio',\n",
       " ' Marinado',\n",
       " ' Recomendada para veganos',\n",
       " ' Recomendada para macrobióticos',\n",
       " ' Recomendada para perder peso',\n",
       " ' Receta sin lactosa',\n",
       " ' Hervido',\n",
       " ' Al grill',\n",
       " ' Receta tradicional de Siria',\n",
       " ' Popular en Otoño-Invierno',\n",
       " ' Nada picante',\n",
       " ' Sin cocción',\n",
       " ' Receta sin gluten',\n",
       " ' Recetas al vapor',\n",
       " ' Receta tradicional de Rumanía',\n",
       " ' En frío',\n",
       " ' Recetas españolas',\n",
       " ' Recetas andaluzas',\n",
       " ' Ideal acompañar con zumo natural',\n",
       " ' Receta tradicional de Alemania',\n",
       " ' Recetas colombianas',\n",
       " ' Recetas gallegas',\n",
       " ' Salteado',\n",
       " ' Recetas para Navidad',\n",
       " ' Recetas venezolanas',\n",
       " ' Estofado',\n",
       " ' Receta tradicional de Paraguay',\n",
       " ' Plancha',\n",
       " ' Receta tradicional de Etiopía',\n",
       " ' Recetas argentinas',\n",
       " ' Receta sin sal',\n",
       " ' Recetas italianas',\n",
       " ' Recetas para Semana Santa',\n",
       " ' Recetas chinas',\n",
       " ' Recomendada para niños',\n",
       " ' Ideal acompañar con refresco',\n",
       " ' Receta tradicional de Tailandia',\n",
       " ' Ideal acompañar con vino tinto',\n",
       " ' Receta tradicional de Reino Unido',\n",
       " ' Thermomix',\n",
       " ' Recetas asturianas',\n",
       " ' Recetas veracruzanas',\n",
       " ' Popular en Otras fiestas',\n",
       " ' Popular en Halloween',\n",
       " ' Receta tradicional de Vietnam',\n",
       " ' Receta tradicional de Francia',\n",
       " ' Receta tradicional de Filipinas',\n",
       " ' Parrilla',\n",
       " ' Recetas catalanas',\n",
       " ' Recomendada para deportistas',\n",
       " ' Receta tradicional de Puerto Rico',\n",
       " ' Recetas poblanas',\n",
       " ' Recetas para Año Nuevo',\n",
       " ' Receta tradicional de Líbano',\n",
       " ' Recetas chiapanecas',\n",
       " '',\n",
       " ' Recetas al microondas',\n",
       " ' Recetas yucatecas',\n",
       " ' Ideal acompañar con vino blanco',\n",
       " ' Recetas sinaloenses',\n",
       " ' Recetas japonesas',\n",
       " ' Receta tradicional de Cuba',\n",
       " ' Ideal acompañar con vino rosado',\n",
       " ' Receta tradicional de Bulgaria',\n",
       " ' Receta tradicional de Estados Unidos',\n",
       " ' Muy picante',\n",
       " ' Receta tradicional de Marruecos',\n",
       " ' Recetas peruanas',\n",
       " ' Recetas para San Valentín',\n",
       " ' Ideal acompañar con cava',\n",
       " ' Receta tradicional de Grecia',\n",
       " ' Ideal acompañar con vino tinto joven',\n",
       " ' Receta tradicional de Indonesia',\n",
       " ' Receta tradicional de Algeria',\n",
       " ' Recetas indias',\n",
       " ' Receta tradicional de Honduras',\n",
       " ' Ideal acompañar con vino dulce',\n",
       " ' Receta tradicional de Turquía',\n",
       " ' Recetas vascas',\n",
       " ' Receta tradicional de Nicaragua',\n",
       " ' Receta tradicional de El Salvador',\n",
       " ' Receta tradicional de Ecuador',\n",
       " ' Receta tradicional de Uruguay',\n",
       " ' Receta tradicional de Guatemala',\n",
       " ' Receta tradicional de Bolivia',\n",
       " ' Recetas valencianas',\n",
       " ' Olla a presión',\n",
       " ' Receta tradicional de Irán',\n",
       " ' Receta tradicional de Corea del Norte',\n",
       " ' Receta tradicional de República Dominicana',\n",
       " ' Receta tradicional de Libia',\n",
       " ' Recomendada para bebés',\n",
       " ' Receta tradicional de Panamá',\n",
       " ' Receta tradicional de Brasil',\n",
       " ' Ideal acompañar con vino tinto reserva',\n",
       " ' Recomendada para embarazadas',\n",
       " ' Ideal acompañar con vino tinto de crianza',\n",
       " ' Recetas bogotanas',\n",
       " ' Recetas riojanas',\n",
       " ' Baño María',\n",
       " ' Popular en Día del Padre',\n",
       " ' Popular en Día de la Madre',\n",
       " ' Receta tradicional de Hungría',\n",
       " ' Recetas llaneras',\n",
       " ' Recetas caraqueñas',\n",
       " ' Barbacoa',\n",
       " ' Rehogado',\n",
       " ' Recetas de Buenos Aires',\n",
       " ' Popular en Día de todos los Santos',\n",
       " ' Popular en Pascua',\n",
       " ' Popular en Carnaval',\n",
       " ' Receta tradicional de Suiza',\n",
       " ' Receta tradicional de Portugal',\n",
       " ' Receta tradicional de Bélgica',\n",
       " ' Receta tradicional de Israel',\n",
       " ' Receta tradicional de Costa Rica',\n",
       " ' Receta tradicional de Países Bajos',\n",
       " ' Holanda',\n",
       " ' Receta tradicional de Pakistán',\n",
       " ' Receta tradicional de Taiwan',\n",
       " ' Receta tradicional de Madagascar',\n",
       " ' Receta tradicional de Suecia',\n",
       " ' Ideal acompañar con licor',\n",
       " ' Popular en Fiestas de Junio',\n",
       " ' Receta tradicional de Dinamarca',\n",
       " ' Receta tradicional de Australia',\n",
       " ' Receta tradicional de Austria',\n",
       " ' Receta tradicional de Senegal',\n",
       " ' Receta tradicional de Rusia',\n",
       " ' Receta tradicional de Malasia',\n",
       " ' Receta tradicional de Hong Kong',\n",
       " ' Recetas antioqueñas',\n",
       " ' Receta tradicional de Arabia Saudita',\n",
       " ' Receta tradicional de Tanzania',\n",
       " ' Recetas de Piura']"
      ]
     },
     "execution_count": 16,
     "metadata": {},
     "output_type": "execute_result"
    }
   ],
   "source": [
    "palabros"
   ]
  },
  {
   "cell_type": "code",
   "execution_count": null,
   "metadata": {},
   "outputs": [],
   "source": []
  }
 ],
 "metadata": {
  "kernelspec": {
   "display_name": "Python 3",
   "language": "python",
   "name": "python3"
  },
  "language_info": {
   "codemirror_mode": {
    "name": "ipython",
    "version": 3
   },
   "file_extension": ".py",
   "mimetype": "text/x-python",
   "name": "python",
   "nbconvert_exporter": "python",
   "pygments_lexer": "ipython3",
   "version": "3.8.5"
  }
 },
 "nbformat": 4,
 "nbformat_minor": 4
}
